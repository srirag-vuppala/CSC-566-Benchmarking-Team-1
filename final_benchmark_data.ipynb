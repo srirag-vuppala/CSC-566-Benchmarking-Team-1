{
 "cells": [
  {
   "cell_type": "markdown",
   "id": "5d5cc429-bf31-420b-964b-199a0b0e5b65",
   "metadata": {},
   "source": [
    "# Final Benchmark Data Generation"
   ]
  },
  {
   "cell_type": "markdown",
   "id": "c0c8aa40-1a15-40cd-8c5e-b3b2eac7fb99",
   "metadata": {},
   "source": [
    "### Dataset 1 Formula:\n",
    "\n",
    "Y = w1*x1 + w2*x2 + ... + wN*xN + iw1*I1 + iw2*I2 + ... + iwM*IM + Noise\n",
    "\n",
    "Where I1, I2, ... are randomly chosen interaction terms xA*xB"
   ]
  },
  {
   "cell_type": "code",
   "execution_count": 188,
   "id": "b5a6bd6e-d8f3-4d45-a821-bfb5c8163102",
   "metadata": {},
   "outputs": [],
   "source": [
    "import numpy as np\n",
    "import pandas as pd"
   ]
  },
  {
   "cell_type": "code",
   "execution_count": 189,
   "id": "1c39dddd-3ee9-4770-9042-12acaf42eb0e",
   "metadata": {},
   "outputs": [],
   "source": [
    "n_rows = 15\n",
    "\n",
    "# x1, x2, ... , xN\n",
    "n_features = 10\n",
    "\n",
    "# x1*x5, x4*x17, x13^2, etc\n",
    "n_interaction = n_features"
   ]
  },
  {
   "cell_type": "markdown",
   "id": "bc9d43b9-e19d-4027-b035-01fa328c5436",
   "metadata": {},
   "source": [
    "## Generate weights for the regular features randomly"
   ]
  },
  {
   "cell_type": "code",
   "execution_count": 190,
   "id": "565d8fec-f3de-4bb4-b9dc-6d86cafa3ad3",
   "metadata": {},
   "outputs": [
    {
     "name": "stdout",
     "output_type": "stream",
     "text": [
      "9 -0.9821434357870202\n",
      "1 0.8626903021715379\n",
      "4 -0.8598401163741036\n"
     ]
    },
    {
     "data": {
      "text/plain": [
       "array([-0.00284605,  0.8626903 ,  0.02303846, -0.02569975, -0.85984012,\n",
       "       -0.03635468,  0.02935379, -0.00274412, -0.03282401, -0.98214344])"
      ]
     },
     "execution_count": 190,
     "metadata": {},
     "output_type": "execute_result"
    }
   ],
   "source": [
    "# weights for n_features\n",
    "def make_w(n_features):\n",
    "    # number of features that will be over the threshold (>0.85 or <-0.85)\n",
    "    n_sig = round(n_features * 3 / 10)\n",
    "    # randomly select some (n_sig) weights to make significant (>0.85 or <-0.85)\n",
    "    big_ws = np.random.choice([ i for i in range(n_features) ], size=n_sig, replace=False)\n",
    "    ws = np.random.rand(n_features)*.2-.1 # set all weights to between -.1 to .1\n",
    "    # Update the randomly selected significant weights\n",
    "    for i in big_ws:\n",
    "        ws[i] = np.random.rand()*0.15 + (1-0.15) # set weight to be between 0.85 and 1.0\n",
    "        ws[i] *= 2*int(np.random.rand()<0.5)-1 # randomly set positive or negative\n",
    "        print(i, ws[i])\n",
    "    return ws\n",
    "\n",
    "w_features = make_w(n_features)\n",
    "w_features"
   ]
  },
  {
   "cell_type": "markdown",
   "id": "804209fb-eec3-44b0-8003-00f5362085cb",
   "metadata": {},
   "source": [
    "## Generate grid of interaction term weights randomly"
   ]
  },
  {
   "cell_type": "code",
   "execution_count": 191,
   "id": "06b234b0-ab32-4b6f-bd87-9981cf6b1746",
   "metadata": {},
   "outputs": [
    {
     "data": {
      "text/plain": [
       "(array([[ 0.        ,  0.9951148 ,  0.        ,  0.        ,  0.        ,\n",
       "          0.        ,  0.        ,  0.        ,  0.        ,  0.        ],\n",
       "        [ 0.        ,  0.        ,  0.        ,  0.        ,  0.        ,\n",
       "         -0.9963527 ,  0.        ,  0.        ,  0.9107665 ,  0.        ],\n",
       "        [ 0.        ,  0.        ,  0.        ,  0.        ,  0.        ,\n",
       "          0.        , -0.89809864,  0.        ,  0.        ,  0.        ],\n",
       "        [ 0.        ,  0.        ,  0.        ,  0.        ,  0.89975285,\n",
       "          0.        , -0.93425992,  0.        ,  0.        ,  0.        ],\n",
       "        [ 0.        ,  0.        ,  0.        ,  0.        ,  0.        ,\n",
       "          0.        ,  0.        ,  0.        , -0.91068386,  0.        ],\n",
       "        [ 0.        ,  0.        ,  0.        ,  0.        ,  0.        ,\n",
       "          0.        ,  0.        ,  0.        ,  0.        ,  0.        ],\n",
       "        [ 0.        ,  0.        ,  0.        ,  0.        ,  0.        ,\n",
       "          0.93528001,  0.        ,  0.        ,  0.        ,  0.        ],\n",
       "        [ 0.        ,  0.        , -0.85429811,  0.        ,  0.        ,\n",
       "          0.        ,  0.        ,  0.        ,  0.        ,  0.        ],\n",
       "        [ 0.        , -0.98707905,  0.        ,  0.        ,  0.        ,\n",
       "          0.        ,  0.        ,  0.        ,  0.        ,  0.        ],\n",
       "        [ 0.        ,  0.        ,  0.        ,  0.        ,  0.        ,\n",
       "          0.        ,  0.        ,  0.        ,  0.        ,  0.        ]]),\n",
       " [(0, 1),\n",
       "  (1, 5),\n",
       "  (2, 6),\n",
       "  (3, 6),\n",
       "  (4, 8),\n",
       "  (6, 5),\n",
       "  (3, 4),\n",
       "  (7, 2),\n",
       "  (1, 8),\n",
       "  (8, 1)])"
      ]
     },
     "execution_count": 191,
     "metadata": {},
     "output_type": "execute_result"
    }
   ],
   "source": [
    "# interaction terms\n",
    "def generate_pair():\n",
    "    # Returns a tuple of two feature numbers representing an interaction term\n",
    "    return tuple((np.random.rand(2)*n_features // 1).astype(int))\n",
    "\n",
    "def make_interaction_w(n_features):\n",
    "    # Generates the grid of weights for the interaction terms\n",
    "    grid = np.zeros((n_features, n_features))\n",
    "    all_terms = []\n",
    "    for i in range(n_interaction):\n",
    "        # select two random features to multiply together, using while to avoid duplicates\n",
    "        terms = generate_pair()\n",
    "        while terms in all_terms: # ensure no repeated interaction pairs\n",
    "            terms = generate_pair()\n",
    "        weight = np.random.rand()*0.15 + (1-0.15) # set weight to be between 0.85 and 1.0\n",
    "        weight *= 2*int(np.random.rand()<0.5)-1 # randomly set positive or negative\n",
    "        grid[terms[0], terms[1]] = weight\n",
    "        all_terms.append(terms)\n",
    "    return grid, all_terms\n",
    "\n",
    "w_interaction, terms = make_interaction_w(n_features)\n",
    "w_interaction, terms"
   ]
  },
  {
   "cell_type": "code",
   "execution_count": 211,
   "id": "f91811e8-c901-4b6d-a5d3-29b63ab66431",
   "metadata": {},
   "outputs": [
    {
     "data": {
      "text/plain": [
       "array([-1224.41620621,  3043.38865309, -3855.86240327, -2895.06942929,\n",
       "          54.25609517,   439.38019147,   557.74771139,   694.56657804,\n",
       "        -238.43523164,  3904.66055009,  -626.69577378,   211.96690065,\n",
       "        3723.12304261,  2943.22191239,   926.42311036])"
      ]
     },
     "execution_count": 211,
     "metadata": {},
     "output_type": "execute_result"
    }
   ],
   "source": [
    "\n",
    "def calculate_y(X):\n",
    "    # Determine y values with linear combination of X*weights, interaction terms, and Noise\n",
    "    # 5% with weird weights\n",
    "    for i in range(len(X)):\n",
    "        weird = np.random.rand()\n",
    "        if weird > 0.95:\n",
    "            X[i] = X[i] * np.random.rand(len(X[i]))\n",
    "    \n",
    "    # dot product X values with weights\n",
    "    y1 = np.dot(X, w_features)\n",
    "    # calculate interaction terms\n",
    "    X_interaction = pd.DataFrame()\n",
    "    wi = []\n",
    "    for t in terms:\n",
    "        X_interaction[t] = X[:,t[0]]*X[:,t[1]]\n",
    "        wi.append(w_interaction[t[0], t[1]])\n",
    "    # dot product interaction terms with interaction weights\n",
    "    y2 = np.dot(np.array(X_interaction), wi)\n",
    "    y_reg = y1 + y2 + np.random.normal(size=n_rows)\n",
    "    return y_reg\n",
    "\n",
    "X = np.random.rand(n_rows, n_features) * 100 - 50\n",
    "y = calculate_y(X)\n",
    "y"
   ]
  },
  {
   "cell_type": "code",
   "execution_count": 193,
   "id": "1ad2309e-e012-4afb-bdd3-7d43d40658ee",
   "metadata": {},
   "outputs": [],
   "source": [
    "def order_interaction_terms(tuple_list):\n",
    "    # sort tuples\n",
    "    arr = np.sort(np.array(tuple_list))\n",
    "    sorted_indices = np.lexsort((arr[:, 1], arr[:, 0]))\n",
    "    sorted_arr = arr[sorted_indices]\n",
    "    return sorted_arr"
   ]
  },
  {
   "cell_type": "code",
   "execution_count": null,
   "id": "46b150b7-e25d-4567-80a8-d588bf83c35d",
   "metadata": {},
   "outputs": [],
   "source": []
  },
  {
   "cell_type": "code",
   "execution_count": 208,
   "id": "159a2015-a5ab-4ac3-b463-ca384d7851ba",
   "metadata": {},
   "outputs": [
    {
     "data": {
      "text/plain": [
       "array([0.18198227, 0.16031412, 1.4781069 , 3.50499146])"
      ]
     },
     "execution_count": 208,
     "metadata": {},
     "output_type": "execute_result"
    }
   ],
   "source": [
    "a = [1,2,3,4]\n",
    "a*np.random.rand(4)"
   ]
  },
  {
   "cell_type": "code",
   "execution_count": 206,
   "id": "dfacbdbe-2fd3-4a62-b8af-492e32ce4371",
   "metadata": {},
   "outputs": [
    {
     "data": {
      "text/plain": [
       "array([[0.37851322, 0.52648315],\n",
       "       [0.47419927, 0.98701902],\n",
       "       [0.65154376, 0.78700465],\n",
       "       [0.37036194, 0.76796817],\n",
       "       [0.81642972, 0.45778306]])"
      ]
     },
     "execution_count": 206,
     "metadata": {},
     "output_type": "execute_result"
    }
   ],
   "source": [
    "np.random.rand(5, 2)"
   ]
  },
  {
   "cell_type": "code",
   "execution_count": 194,
   "id": "e9397745-0e78-4dea-90fd-6dc85ea6cd1e",
   "metadata": {},
   "outputs": [
    {
     "data": {
      "text/plain": [
       "array([ 2, 12, 30])"
      ]
     },
     "execution_count": 194,
     "metadata": {},
     "output_type": "execute_result"
    }
   ],
   "source": [
    "x = np.array([[1,2],\n",
    "              [3,4],\n",
    "              [5,6]])\n",
    "w = np.array([10,100])\n",
    "np.dot(x, w)\n",
    "x[:,0]*x[:,1]"
   ]
  },
  {
   "cell_type": "code",
   "execution_count": 195,
   "id": "c7414413-0eb0-4fb0-ada7-dbda177c0c39",
   "metadata": {},
   "outputs": [
    {
     "name": "stdout",
     "output_type": "stream",
     "text": [
      "[[0 1]\n",
      " [1 5]\n",
      " [1 8]\n",
      " [1 8]\n",
      " [2 6]\n",
      " [2 7]\n",
      " [3 4]\n",
      " [3 6]\n",
      " [4 8]\n",
      " [5 6]]\n"
     ]
    }
   ],
   "source": [
    "# arr = np.sort(np.array([(0, 6),\n",
    "#   (8, 5),\n",
    "#   (8, 2),\n",
    "#   (7, 1),\n",
    "#   (5, 2),\n",
    "#   (1, 4),\n",
    "#   (6, 5),\n",
    "#   (4, 7),\n",
    "#   (8, 9),\n",
    "#   (2, 1)]))\n",
    "\n",
    "# # sort the array by the first column and then the second column\n",
    "# sorted_indices = np.lexsort((arr[:, 1], arr[:, 0]))\n",
    "# sorted_arr = arr[sorted_indices]\n",
    "\n",
    "# print(sorted_arr)\n",
    "print(order_interaction_terms(terms))"
   ]
  }
 ],
 "metadata": {
  "kernelspec": {
   "display_name": "Python 3",
   "language": "python",
   "name": "python3"
  },
  "language_info": {
   "codemirror_mode": {
    "name": "ipython",
    "version": 3
   },
   "file_extension": ".py",
   "mimetype": "text/x-python",
   "name": "python",
   "nbconvert_exporter": "python",
   "pygments_lexer": "ipython3",
   "version": "3.8.8"
  }
 },
 "nbformat": 4,
 "nbformat_minor": 5
}
