{
 "cells": [
  {
   "cell_type": "markdown",
   "id": "5d5cc429-bf31-420b-964b-199a0b0e5b65",
   "metadata": {},
   "source": [
    "# Final Benchmark Data Generation"
   ]
  },
  {
   "cell_type": "markdown",
   "id": "c0c8aa40-1a15-40cd-8c5e-b3b2eac7fb99",
   "metadata": {},
   "source": [
    "### Dataset 1 Formula:\n",
    "\n",
    "Y = w1*x1 + w2*x2 + ... + wN*xN + iw1*I1 + iw2*I2 + ... + iwM*IM + Noise\n",
    "\n",
    "Where I1, I2, ... are randomly chosen interaction terms xA*xB"
   ]
  },
  {
   "cell_type": "code",
   "execution_count": 8,
   "id": "b5a6bd6e-d8f3-4d45-a821-bfb5c8163102",
   "metadata": {},
   "outputs": [],
   "source": [
    "import numpy as np"
   ]
  },
  {
   "cell_type": "code",
   "execution_count": 9,
   "id": "1c39dddd-3ee9-4770-9042-12acaf42eb0e",
   "metadata": {},
   "outputs": [],
   "source": [
    "n_rows = 1000\n",
    "\n",
    "# x1, x2, ... , xN\n",
    "n_features = 10\n",
    "\n",
    "# x1*x5, x4*x17, x13^2, etc\n",
    "n_interaction = n_features"
   ]
  },
  {
   "cell_type": "markdown",
   "id": "bc9d43b9-e19d-4027-b035-01fa328c5436",
   "metadata": {},
   "source": [
    "## Generate weights for the regular features randomly"
   ]
  },
  {
   "cell_type": "code",
   "execution_count": 10,
   "id": "565d8fec-f3de-4bb4-b9dc-6d86cafa3ad3",
   "metadata": {},
   "outputs": [
    {
     "name": "stdout",
     "output_type": "stream",
     "text": [
      "8 0.9661649826797338\n",
      "1 0.8864285998959524\n",
      "7 -0.8972354839819978\n"
     ]
    }
   ],
   "source": [
    "# weights for n_features\n",
    "def make_w(n_features):\n",
    "    # number of features that will be over the threshold (>0.85 or <-0.85)\n",
    "    n_sig = round(n_features * 3 / 10)\n",
    "    # randomly select some (n_sig) weights to make significant (>0.85 or <-0.85)\n",
    "    big_ws = np.random.choice([ i for i in range(n_features) ], size=n_sig, replace=False)\n",
    "    ws = np.random.rand(n_features)*.2-.1 # set all weights to between -.1 to .1\n",
    "    # Update the randomly selected significant weights\n",
    "    for i in big_ws:\n",
    "        ws[i] = np.random.rand()*0.15 + (1-0.15) # set weight to be between 0.85 and 1.0\n",
    "        ws[i] *= 2*int(np.random.rand()<0.5)-1 # randomly set positive or negative\n",
    "        print(i, ws[i])\n",
    "    return ws\n",
    "\n",
    "w_features = make_w(n_features)"
   ]
  },
  {
   "cell_type": "markdown",
   "id": "804209fb-eec3-44b0-8003-00f5362085cb",
   "metadata": {},
   "source": [
    "## Generate grid of interaction term weights randomly"
   ]
  },
  {
   "cell_type": "code",
   "execution_count": 122,
   "id": "06b234b0-ab32-4b6f-bd87-9981cf6b1746",
   "metadata": {},
   "outputs": [
    {
     "data": {
      "text/plain": [
       "(array([[ 0.        ,  0.        ,  0.        ,  0.        ,  0.        ,\n",
       "          0.        ,  0.97181851,  0.        ,  0.        ,  0.        ],\n",
       "        [ 0.        ,  0.        ,  0.        ,  0.        , -0.96009366,\n",
       "          0.        ,  0.        ,  0.        ,  0.        ,  0.        ],\n",
       "        [ 0.        , -0.98489865,  0.        ,  0.        ,  0.        ,\n",
       "          0.        ,  0.        ,  0.        ,  0.        ,  0.        ],\n",
       "        [ 0.        ,  0.        ,  0.        ,  0.        ,  0.        ,\n",
       "          0.        ,  0.        ,  0.        ,  0.        ,  0.        ],\n",
       "        [ 0.        ,  0.        ,  0.        ,  0.        ,  0.        ,\n",
       "          0.        ,  0.        ,  0.9879095 ,  0.        ,  0.        ],\n",
       "        [ 0.        ,  0.        ,  0.96465393,  0.        ,  0.        ,\n",
       "          0.        ,  0.        ,  0.        ,  0.        ,  0.        ],\n",
       "        [ 0.        ,  0.        ,  0.        ,  0.        ,  0.        ,\n",
       "         -0.96051715,  0.        ,  0.        ,  0.        ,  0.        ],\n",
       "        [ 0.        , -0.86736821,  0.        ,  0.        ,  0.        ,\n",
       "          0.        ,  0.        ,  0.        ,  0.        ,  0.        ],\n",
       "        [ 0.        ,  0.        , -0.94453237,  0.        ,  0.        ,\n",
       "          0.87083915,  0.        ,  0.        ,  0.        ,  0.97262249],\n",
       "        [ 0.        ,  0.        ,  0.        ,  0.        ,  0.        ,\n",
       "          0.        ,  0.        ,  0.        ,  0.        ,  0.        ]]),\n",
       " [(0, 6),\n",
       "  (8, 5),\n",
       "  (8, 2),\n",
       "  (7, 1),\n",
       "  (5, 2),\n",
       "  (1, 4),\n",
       "  (6, 5),\n",
       "  (4, 7),\n",
       "  (8, 9),\n",
       "  (2, 1)])"
      ]
     },
     "execution_count": 122,
     "metadata": {},
     "output_type": "execute_result"
    }
   ],
   "source": [
    "# interaction terms\n",
    "def generate_pair():\n",
    "    # Returns a tuple of two feature numbers representing an interaction term\n",
    "    return tuple((np.random.rand(2)*n_features // 1).astype(int))\n",
    "\n",
    "def make_interaction_w(n_features):\n",
    "    # Generates the grid of weights for the interaction terms\n",
    "    grid = np.zeros((n_features, n_features))\n",
    "    all_terms = []\n",
    "    for i in range(n_interaction):\n",
    "        # select two random features to multiply together, using while to avoid duplicates\n",
    "        terms = generate_pair()\n",
    "        while terms in all_terms: # ensure no repeated interaction pairs\n",
    "            terms = generate_pair()\n",
    "        weight = np.random.rand()*0.15 + (1-0.15) # set weight to be between 0.85 and 1.0\n",
    "        weight *= 2*int(np.random.rand()<0.5)-1 # randomly set positive or negative\n",
    "        grid[terms[0], terms[1]] = weight\n",
    "        all_terms.append(terms)\n",
    "    return grid, all_terms\n",
    "\n",
    "w_interaction, terms = make_interaction_w(n_features)\n",
    "w_interaction, terms"
   ]
  },
  {
   "cell_type": "code",
   "execution_count": null,
   "id": "fd862743-bf0d-4420-9e4e-c57fb626be5a",
   "metadata": {},
   "outputs": [],
   "source": [
    "def order_interaction_terms(tuple_list):\n",
    "    # sort tuples\n",
    "    # print out sorted list\n",
    "    return"
   ]
  },
  {
   "cell_type": "code",
   "execution_count": null,
   "id": "f91811e8-c901-4b6d-a5d3-29b63ab66431",
   "metadata": {},
   "outputs": [],
   "source": [
    "\n",
    "def calculate_y():\n",
    "    # Determine y values with linear combination of X*weights, interaction terms, and Noise\n",
    "    # dot product X values with weights\n",
    "    # calculate interaction terms\n",
    "    # dot product interaction terms with interaction weights\n",
    "    \n",
    "    # 5% with weird weights\n",
    "\n",
    "X = np.random.rand(n_rows, n_features) * 100 - 50"
   ]
  },
  {
   "cell_type": "code",
   "execution_count": 36,
   "id": "1ad2309e-e012-4afb-bdd3-7d43d40658ee",
   "metadata": {},
   "outputs": [
    {
     "data": {
      "text/plain": [
       "True"
      ]
     },
     "execution_count": 36,
     "metadata": {},
     "output_type": "execute_result"
    }
   ],
   "source": []
  }
 ],
 "metadata": {
  "kernelspec": {
   "display_name": "Python 3",
   "language": "python",
   "name": "python3"
  },
  "language_info": {
   "codemirror_mode": {
    "name": "ipython",
    "version": 3
   },
   "file_extension": ".py",
   "mimetype": "text/x-python",
   "name": "python",
   "nbconvert_exporter": "python",
   "pygments_lexer": "ipython3",
   "version": "3.8.8"
  }
 },
 "nbformat": 4,
 "nbformat_minor": 5
}
